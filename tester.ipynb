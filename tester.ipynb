{
 "cells": [
  {
   "cell_type": "code",
   "execution_count": 1,
   "metadata": {},
   "outputs": [],
   "source": [
    "import cv2\n",
    "import numpy as np\n",
    "import matplotlib.pyplot as plt\n",
    "import easyocr"
   ]
  },
  {
   "cell_type": "code",
   "execution_count": 2,
   "metadata": {},
   "outputs": [],
   "source": [
    "reader = easyocr.Reader(['id', 'en'])"
   ]
  },
  {
   "cell_type": "code",
   "execution_count": 61,
   "metadata": {},
   "outputs": [],
   "source": [
    "result = reader.readtext(\"Images/ktm1.jpg\")"
   ]
  },
  {
   "cell_type": "code",
   "execution_count": 62,
   "metadata": {},
   "outputs": [
    {
     "data": {
      "text/plain": [
       "[([[427, 65], [932, 65], [932, 145], [427, 145]],\n",
       "  'UNIVERSITAS',\n",
       "  0.9979107520703158),\n",
       " ([[427, 134], [938, 134], [938, 214], [427, 214]],\n",
       "  'INDONESIA',\n",
       "  0.9990470502497215),\n",
       " ([[442, 236], [942, 236], [942, 286], [442, 286]],\n",
       "  'Veritas, Probitas, Justitía',\n",
       "  0.6564267327002463),\n",
       " ([[462, 349], [1021, 349], [1021, 437], [462, 437]],\n",
       "  'Kartu Identitas',\n",
       "  0.9700193395358085),\n",
       " ([[463, 431], [879, 431], [879, 517], [463, 517]],\n",
       "  'Mahasiswa',\n",
       "  0.9995102048282156),\n",
       " ([[122, 652], [720, 652], [720, 729], [122, 729]],\n",
       "  'FIKRI AUFAA ZAIN',\n",
       "  0.820353324214606),\n",
       " ([[125, 740], [520, 740], [520, 818], [125, 818]],\n",
       "  '2006484040',\n",
       "  0.9207901271685948),\n",
       " ([[123, 829], [490, 829], [490, 906], [123, 906]],\n",
       "  '09.00.12.01',\n",
       "  0.7700946149653141),\n",
       " ([[1069, 817], [1566, 817], [1566, 893], [1069, 893]],\n",
       "  'fikri.aufaa@ui.ac id',\n",
       "  0.7193955580961535)]"
      ]
     },
     "execution_count": 62,
     "metadata": {},
     "output_type": "execute_result"
    }
   ],
   "source": [
    "result"
   ]
  },
  {
   "cell_type": "code",
   "execution_count": 68,
   "metadata": {},
   "outputs": [],
   "source": [
    "img3 = cv2.imread('Images/ktm1.jpg')"
   ]
  },
  {
   "cell_type": "code",
   "execution_count": 67,
   "metadata": {},
   "outputs": [],
   "source": [
    "def rectangle(img, result):\n",
    "    index = [5,6,8]\n",
    "    for i in index:\n",
    "        x1,y1 = result[i][0][0]\n",
    "        x2,y2 = result[i][0][2]\n",
    "        cv2.rectangle(img, pt1=(x1, y1), pt2=(x2, y2), color=(250,0,0), thickness=5)\n",
    "    return img\n"
   ]
  },
  {
   "cell_type": "code",
   "execution_count": null,
   "metadata": {},
   "outputs": [],
   "source": []
  },
  {
   "cell_type": "code",
   "execution_count": 69,
   "metadata": {},
   "outputs": [],
   "source": [
    "img = rectangle(img3, result)"
   ]
  }
 ],
 "metadata": {
  "kernelspec": {
   "display_name": "Python 3.7.6 64-bit",
   "language": "python",
   "name": "python3"
  },
  "language_info": {
   "codemirror_mode": {
    "name": "ipython",
    "version": 3
   },
   "file_extension": ".py",
   "mimetype": "text/x-python",
   "name": "python",
   "nbconvert_exporter": "python",
   "pygments_lexer": "ipython3",
   "version": "3.7.6"
  },
  "orig_nbformat": 4,
  "vscode": {
   "interpreter": {
    "hash": "41f6e7cd3bfe763910d8e585ac8e1a09d7bd2a6b653d204c125c0c80d1f66a67"
   }
  }
 },
 "nbformat": 4,
 "nbformat_minor": 2
}
