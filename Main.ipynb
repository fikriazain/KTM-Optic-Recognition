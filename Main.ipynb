{
 "cells": [
  {
   "cell_type": "code",
   "execution_count": null,
   "metadata": {},
   "outputs": [],
   "source": []
  }
 ],
 "metadata": {
  "kernelspec": {
   "display_name": "Python 3.7.6 64-bit",
   "language": "python",
   "name": "python3"
  },
  "language_info": {
   "name": "python",
   "version": "3.7.6"
  },
  "orig_nbformat": 4,
  "vscode": {
   "interpreter": {
    "hash": "41f6e7cd3bfe763910d8e585ac8e1a09d7bd2a6b653d204c125c0c80d1f66a67"
   }
  }
 },
 "nbformat": 4,
 "nbformat_minor": 2
}
