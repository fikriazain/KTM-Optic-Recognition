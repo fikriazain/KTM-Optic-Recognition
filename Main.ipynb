{
 "cells": [],
 "metadata": {
  "kernelspec": {
   "display_name": "Python 3.7.6 64-bit",
   "language": "python",
   "name": "python3"
  },
  "language_info": {
   "codemirror_mode": {
    "name": "ipython",
    "version": 3
   },
   "file_extension": ".py",
   "mimetype": "text/x-python",
   "name": "python",
   "nbconvert_exporter": "python",
   "pygments_lexer": "ipython3",
   "version": "3.7.6"
  },
  "orig_nbformat": 4,
  "vscode": {
   "interpreter": {
    "hash": "41f6e7cd3bfe763910d8e585ac8e1a09d7bd2a6b653d204c125c0c80d1f66a67"
   }
  }
 },
 "nbformat": 4,
 "nbformat_minor": 2
}
